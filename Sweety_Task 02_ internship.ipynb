{
 "cells": [
  {
   "cell_type": "markdown",
   "id": "3a71ccf6",
   "metadata": {},
   "source": [
    "#                            Internship task 02_ SWEETY"
   ]
  },
  {
   "cell_type": "code",
   "execution_count": 1,
   "id": "c4ca00c1",
   "metadata": {},
   "outputs": [],
   "source": [
    "import pandas as pd"
   ]
  },
  {
   "cell_type": "code",
   "execution_count": 2,
   "id": "2530bb32",
   "metadata": {},
   "outputs": [],
   "source": [
    "df=pd.read_csv(\"studentdata.csv\")"
   ]
  },
  {
   "cell_type": "code",
   "execution_count": 3,
   "id": "b6d233b2",
   "metadata": {},
   "outputs": [
    {
     "data": {
      "text/html": [
       "<div>\n",
       "<style scoped>\n",
       "    .dataframe tbody tr th:only-of-type {\n",
       "        vertical-align: middle;\n",
       "    }\n",
       "\n",
       "    .dataframe tbody tr th {\n",
       "        vertical-align: top;\n",
       "    }\n",
       "\n",
       "    .dataframe thead th {\n",
       "        text-align: right;\n",
       "    }\n",
       "</style>\n",
       "<table border=\"1\" class=\"dataframe\">\n",
       "  <thead>\n",
       "    <tr style=\"text-align: right;\">\n",
       "      <th></th>\n",
       "      <th>RollNo</th>\n",
       "      <th>Name</th>\n",
       "      <th>Physics</th>\n",
       "      <th>Chemistry</th>\n",
       "      <th>Math</th>\n",
       "    </tr>\n",
       "  </thead>\n",
       "  <tbody>\n",
       "    <tr>\n",
       "      <th>0</th>\n",
       "      <td>1</td>\n",
       "      <td>John Doe</td>\n",
       "      <td>85</td>\n",
       "      <td>90</td>\n",
       "      <td>88</td>\n",
       "    </tr>\n",
       "    <tr>\n",
       "      <th>1</th>\n",
       "      <td>2</td>\n",
       "      <td>Jane Smith</td>\n",
       "      <td>78</td>\n",
       "      <td>82</td>\n",
       "      <td>79</td>\n",
       "    </tr>\n",
       "    <tr>\n",
       "      <th>2</th>\n",
       "      <td>3</td>\n",
       "      <td>Michael Johnson</td>\n",
       "      <td>92</td>\n",
       "      <td>88</td>\n",
       "      <td>95</td>\n",
       "    </tr>\n",
       "    <tr>\n",
       "      <th>3</th>\n",
       "      <td>4</td>\n",
       "      <td>Emily Brown</td>\n",
       "      <td>70</td>\n",
       "      <td>75</td>\n",
       "      <td>72</td>\n",
       "    </tr>\n",
       "    <tr>\n",
       "      <th>4</th>\n",
       "      <td>5</td>\n",
       "      <td>Chris Davis</td>\n",
       "      <td>81</td>\n",
       "      <td>84</td>\n",
       "      <td>79</td>\n",
       "    </tr>\n",
       "  </tbody>\n",
       "</table>\n",
       "</div>"
      ],
      "text/plain": [
       "   RollNo             Name  Physics  Chemistry  Math\n",
       "0       1         John Doe       85         90    88\n",
       "1       2       Jane Smith       78         82    79\n",
       "2       3  Michael Johnson       92         88    95\n",
       "3       4      Emily Brown       70         75    72\n",
       "4       5      Chris Davis       81         84    79"
      ]
     },
     "execution_count": 3,
     "metadata": {},
     "output_type": "execute_result"
    }
   ],
   "source": [
    "df.head()"
   ]
  },
  {
   "cell_type": "markdown",
   "id": "a4d2e850",
   "metadata": {},
   "source": [
    "#  Job 01: Add a new column as average by calculating average marks of PCM\n"
   ]
  },
  {
   "cell_type": "code",
   "execution_count": 5,
   "id": "088b7df1",
   "metadata": {},
   "outputs": [],
   "source": [
    "df[\"Average\"]=(df['Physics']+df['Chemistry']+df['Math'])/3"
   ]
  },
  {
   "cell_type": "code",
   "execution_count": 6,
   "id": "20b60813",
   "metadata": {},
   "outputs": [
    {
     "data": {
      "text/html": [
       "<div>\n",
       "<style scoped>\n",
       "    .dataframe tbody tr th:only-of-type {\n",
       "        vertical-align: middle;\n",
       "    }\n",
       "\n",
       "    .dataframe tbody tr th {\n",
       "        vertical-align: top;\n",
       "    }\n",
       "\n",
       "    .dataframe thead th {\n",
       "        text-align: right;\n",
       "    }\n",
       "</style>\n",
       "<table border=\"1\" class=\"dataframe\">\n",
       "  <thead>\n",
       "    <tr style=\"text-align: right;\">\n",
       "      <th></th>\n",
       "      <th>RollNo</th>\n",
       "      <th>Name</th>\n",
       "      <th>Physics</th>\n",
       "      <th>Chemistry</th>\n",
       "      <th>Math</th>\n",
       "      <th>Average</th>\n",
       "    </tr>\n",
       "  </thead>\n",
       "  <tbody>\n",
       "    <tr>\n",
       "      <th>0</th>\n",
       "      <td>1</td>\n",
       "      <td>John Doe</td>\n",
       "      <td>85</td>\n",
       "      <td>90</td>\n",
       "      <td>88</td>\n",
       "      <td>87.666667</td>\n",
       "    </tr>\n",
       "    <tr>\n",
       "      <th>1</th>\n",
       "      <td>2</td>\n",
       "      <td>Jane Smith</td>\n",
       "      <td>78</td>\n",
       "      <td>82</td>\n",
       "      <td>79</td>\n",
       "      <td>79.666667</td>\n",
       "    </tr>\n",
       "    <tr>\n",
       "      <th>2</th>\n",
       "      <td>3</td>\n",
       "      <td>Michael Johnson</td>\n",
       "      <td>92</td>\n",
       "      <td>88</td>\n",
       "      <td>95</td>\n",
       "      <td>91.666667</td>\n",
       "    </tr>\n",
       "    <tr>\n",
       "      <th>3</th>\n",
       "      <td>4</td>\n",
       "      <td>Emily Brown</td>\n",
       "      <td>70</td>\n",
       "      <td>75</td>\n",
       "      <td>72</td>\n",
       "      <td>72.333333</td>\n",
       "    </tr>\n",
       "    <tr>\n",
       "      <th>4</th>\n",
       "      <td>5</td>\n",
       "      <td>Chris Davis</td>\n",
       "      <td>81</td>\n",
       "      <td>84</td>\n",
       "      <td>79</td>\n",
       "      <td>81.333333</td>\n",
       "    </tr>\n",
       "    <tr>\n",
       "      <th>...</th>\n",
       "      <td>...</td>\n",
       "      <td>...</td>\n",
       "      <td>...</td>\n",
       "      <td>...</td>\n",
       "      <td>...</td>\n",
       "      <td>...</td>\n",
       "    </tr>\n",
       "    <tr>\n",
       "      <th>95</th>\n",
       "      <td>96</td>\n",
       "      <td>Joshua Foster</td>\n",
       "      <td>80</td>\n",
       "      <td>83</td>\n",
       "      <td>79</td>\n",
       "      <td>80.666667</td>\n",
       "    </tr>\n",
       "    <tr>\n",
       "      <th>96</th>\n",
       "      <td>97</td>\n",
       "      <td>Anna Hayes</td>\n",
       "      <td>87</td>\n",
       "      <td>90</td>\n",
       "      <td>86</td>\n",
       "      <td>87.666667</td>\n",
       "    </tr>\n",
       "    <tr>\n",
       "      <th>97</th>\n",
       "      <td>98</td>\n",
       "      <td>William Peterson</td>\n",
       "      <td>94</td>\n",
       "      <td>93</td>\n",
       "      <td>95</td>\n",
       "      <td>94.000000</td>\n",
       "    </tr>\n",
       "    <tr>\n",
       "      <th>98</th>\n",
       "      <td>99</td>\n",
       "      <td>Emily Morgan</td>\n",
       "      <td>79</td>\n",
       "      <td>82</td>\n",
       "      <td>78</td>\n",
       "      <td>79.666667</td>\n",
       "    </tr>\n",
       "    <tr>\n",
       "      <th>99</th>\n",
       "      <td>100</td>\n",
       "      <td>James Bennett</td>\n",
       "      <td>92</td>\n",
       "      <td>91</td>\n",
       "      <td>93</td>\n",
       "      <td>92.000000</td>\n",
       "    </tr>\n",
       "  </tbody>\n",
       "</table>\n",
       "<p>100 rows × 6 columns</p>\n",
       "</div>"
      ],
      "text/plain": [
       "    RollNo              Name  Physics  Chemistry  Math    Average\n",
       "0        1          John Doe       85         90    88  87.666667\n",
       "1        2        Jane Smith       78         82    79  79.666667\n",
       "2        3   Michael Johnson       92         88    95  91.666667\n",
       "3        4       Emily Brown       70         75    72  72.333333\n",
       "4        5       Chris Davis       81         84    79  81.333333\n",
       "..     ...               ...      ...        ...   ...        ...\n",
       "95      96     Joshua Foster       80         83    79  80.666667\n",
       "96      97        Anna Hayes       87         90    86  87.666667\n",
       "97      98  William Peterson       94         93    95  94.000000\n",
       "98      99      Emily Morgan       79         82    78  79.666667\n",
       "99     100     James Bennett       92         91    93  92.000000\n",
       "\n",
       "[100 rows x 6 columns]"
      ]
     },
     "execution_count": 6,
     "metadata": {},
     "output_type": "execute_result"
    }
   ],
   "source": [
    "df"
   ]
  },
  {
   "cell_type": "markdown",
   "id": "98a4f3ac",
   "metadata": {},
   "source": [
    "# Job 02: Add a new column Branch to allocate a branch based on following rules\n",
    "CSE for average >=90\n",
    "ECE for average >=80\n",
    "EN for average >=70\n",
    "ME for average >=60\n",
    "NA for others"
   ]
  },
  {
   "cell_type": "code",
   "execution_count": 7,
   "id": "9de9a4ae",
   "metadata": {},
   "outputs": [],
   "source": [
    "def Branch(Average):\n",
    "    if Average>=90:\n",
    "        return \"CSE\"\n",
    "    elif Average>=80:\n",
    "        return \"ECE\"\n",
    "    elif Average>=70:\n",
    "        return\"EN\"\n",
    "    elif Average>=60:\n",
    "        return\"ME\"\n",
    "    else:\n",
    "        return \"NA\""
   ]
  },
  {
   "cell_type": "code",
   "execution_count": 9,
   "id": "a7c08a8b",
   "metadata": {},
   "outputs": [],
   "source": [
    "df[\"Branch\"]=df[\"Average\"].apply(Branch)"
   ]
  },
  {
   "cell_type": "code",
   "execution_count": 10,
   "id": "d3c0213d",
   "metadata": {},
   "outputs": [
    {
     "data": {
      "text/html": [
       "<div>\n",
       "<style scoped>\n",
       "    .dataframe tbody tr th:only-of-type {\n",
       "        vertical-align: middle;\n",
       "    }\n",
       "\n",
       "    .dataframe tbody tr th {\n",
       "        vertical-align: top;\n",
       "    }\n",
       "\n",
       "    .dataframe thead th {\n",
       "        text-align: right;\n",
       "    }\n",
       "</style>\n",
       "<table border=\"1\" class=\"dataframe\">\n",
       "  <thead>\n",
       "    <tr style=\"text-align: right;\">\n",
       "      <th></th>\n",
       "      <th>RollNo</th>\n",
       "      <th>Name</th>\n",
       "      <th>Physics</th>\n",
       "      <th>Chemistry</th>\n",
       "      <th>Math</th>\n",
       "      <th>Average</th>\n",
       "      <th>Branch</th>\n",
       "    </tr>\n",
       "  </thead>\n",
       "  <tbody>\n",
       "    <tr>\n",
       "      <th>0</th>\n",
       "      <td>1</td>\n",
       "      <td>John Doe</td>\n",
       "      <td>85</td>\n",
       "      <td>90</td>\n",
       "      <td>88</td>\n",
       "      <td>87.666667</td>\n",
       "      <td>ECE</td>\n",
       "    </tr>\n",
       "    <tr>\n",
       "      <th>1</th>\n",
       "      <td>2</td>\n",
       "      <td>Jane Smith</td>\n",
       "      <td>78</td>\n",
       "      <td>82</td>\n",
       "      <td>79</td>\n",
       "      <td>79.666667</td>\n",
       "      <td>EN</td>\n",
       "    </tr>\n",
       "    <tr>\n",
       "      <th>2</th>\n",
       "      <td>3</td>\n",
       "      <td>Michael Johnson</td>\n",
       "      <td>92</td>\n",
       "      <td>88</td>\n",
       "      <td>95</td>\n",
       "      <td>91.666667</td>\n",
       "      <td>CSE</td>\n",
       "    </tr>\n",
       "    <tr>\n",
       "      <th>3</th>\n",
       "      <td>4</td>\n",
       "      <td>Emily Brown</td>\n",
       "      <td>70</td>\n",
       "      <td>75</td>\n",
       "      <td>72</td>\n",
       "      <td>72.333333</td>\n",
       "      <td>EN</td>\n",
       "    </tr>\n",
       "    <tr>\n",
       "      <th>4</th>\n",
       "      <td>5</td>\n",
       "      <td>Chris Davis</td>\n",
       "      <td>81</td>\n",
       "      <td>84</td>\n",
       "      <td>79</td>\n",
       "      <td>81.333333</td>\n",
       "      <td>ECE</td>\n",
       "    </tr>\n",
       "    <tr>\n",
       "      <th>...</th>\n",
       "      <td>...</td>\n",
       "      <td>...</td>\n",
       "      <td>...</td>\n",
       "      <td>...</td>\n",
       "      <td>...</td>\n",
       "      <td>...</td>\n",
       "      <td>...</td>\n",
       "    </tr>\n",
       "    <tr>\n",
       "      <th>95</th>\n",
       "      <td>96</td>\n",
       "      <td>Joshua Foster</td>\n",
       "      <td>80</td>\n",
       "      <td>83</td>\n",
       "      <td>79</td>\n",
       "      <td>80.666667</td>\n",
       "      <td>ECE</td>\n",
       "    </tr>\n",
       "    <tr>\n",
       "      <th>96</th>\n",
       "      <td>97</td>\n",
       "      <td>Anna Hayes</td>\n",
       "      <td>87</td>\n",
       "      <td>90</td>\n",
       "      <td>86</td>\n",
       "      <td>87.666667</td>\n",
       "      <td>ECE</td>\n",
       "    </tr>\n",
       "    <tr>\n",
       "      <th>97</th>\n",
       "      <td>98</td>\n",
       "      <td>William Peterson</td>\n",
       "      <td>94</td>\n",
       "      <td>93</td>\n",
       "      <td>95</td>\n",
       "      <td>94.000000</td>\n",
       "      <td>CSE</td>\n",
       "    </tr>\n",
       "    <tr>\n",
       "      <th>98</th>\n",
       "      <td>99</td>\n",
       "      <td>Emily Morgan</td>\n",
       "      <td>79</td>\n",
       "      <td>82</td>\n",
       "      <td>78</td>\n",
       "      <td>79.666667</td>\n",
       "      <td>EN</td>\n",
       "    </tr>\n",
       "    <tr>\n",
       "      <th>99</th>\n",
       "      <td>100</td>\n",
       "      <td>James Bennett</td>\n",
       "      <td>92</td>\n",
       "      <td>91</td>\n",
       "      <td>93</td>\n",
       "      <td>92.000000</td>\n",
       "      <td>CSE</td>\n",
       "    </tr>\n",
       "  </tbody>\n",
       "</table>\n",
       "<p>100 rows × 7 columns</p>\n",
       "</div>"
      ],
      "text/plain": [
       "    RollNo              Name  Physics  Chemistry  Math    Average Branch\n",
       "0        1          John Doe       85         90    88  87.666667    ECE\n",
       "1        2        Jane Smith       78         82    79  79.666667     EN\n",
       "2        3   Michael Johnson       92         88    95  91.666667    CSE\n",
       "3        4       Emily Brown       70         75    72  72.333333     EN\n",
       "4        5       Chris Davis       81         84    79  81.333333    ECE\n",
       "..     ...               ...      ...        ...   ...        ...    ...\n",
       "95      96     Joshua Foster       80         83    79  80.666667    ECE\n",
       "96      97        Anna Hayes       87         90    86  87.666667    ECE\n",
       "97      98  William Peterson       94         93    95  94.000000    CSE\n",
       "98      99      Emily Morgan       79         82    78  79.666667     EN\n",
       "99     100     James Bennett       92         91    93  92.000000    CSE\n",
       "\n",
       "[100 rows x 7 columns]"
      ]
     },
     "execution_count": 10,
     "metadata": {},
     "output_type": "execute_result"
    }
   ],
   "source": [
    "df"
   ]
  },
  {
   "cell_type": "markdown",
   "id": "e759688a",
   "metadata": {},
   "source": [
    "# JOB 04:Filter the records in Analysis sheet based on following criteria\n",
    "## (a) Show the RollNo, Name of students of CSE branch"
   ]
  },
  {
   "cell_type": "code",
   "execution_count": 11,
   "id": "098a6455",
   "metadata": {},
   "outputs": [
    {
     "name": "stdout",
     "output_type": "stream",
     "text": [
      "    RollNo               Name\n",
      "2        3    Michael Johnson\n",
      "7        8      Olivia Garcia\n",
      "10      11          James Lee\n",
      "13      14  Isabella Gonzalez\n",
      "17      18          Mia Scott\n",
      "22      23       David Carter\n",
      "25      26        Ella Nelson\n",
      "29      30     Grace Campbell\n",
      "34      35        Aiden Evans\n",
      "36      37        Lily Howard\n",
      "40      41      Sophia Foster\n",
      "44      45      Isabella Reed\n",
      "49      50      Daniel Butler\n",
      "52      53       Sophia Perry\n",
      "54      55   Grace Richardson\n",
      "58      59      Chloe Simmons\n",
      "60      61         Emily Wood\n",
      "64      65         Ava Parker\n",
      "68      69        Hannah Cole\n",
      "71      72     William Powell\n",
      "74      75    Isabella Powell\n",
      "77      78    Nathan Phillips\n",
      "79      80        David Hayes\n",
      "83      84       Aiden Morgan\n",
      "85      86      Joshua Brooks\n",
      "88      89        Chloe Perry\n",
      "90      91        Ella Foster\n",
      "94      95      Hannah Bryant\n",
      "97      98   William Peterson\n",
      "99     100      James Bennett\n"
     ]
    }
   ],
   "source": [
    "Student_CSE=df[df[\"Branch\"]==\"CSE\"][[\"RollNo\",\"Name\"]]\n",
    "print(Student_CSE)"
   ]
  },
  {
   "cell_type": "markdown",
   "id": "c811ea56",
   "metadata": {},
   "source": [
    "# (b) Show the RollNo, Name of students of CSE or ECE branch¶"
   ]
  },
  {
   "cell_type": "code",
   "execution_count": 16,
   "id": "7553e858",
   "metadata": {},
   "outputs": [
    {
     "name": "stdout",
     "output_type": "stream",
     "text": [
      "    RollNo              Name\n",
      "0        1          John Doe\n",
      "2        3   Michael Johnson\n",
      "4        5       Chris Davis\n",
      "5        6      Sarah Wilson\n",
      "7        8     Olivia Garcia\n",
      "..     ...               ...\n",
      "94      95     Hannah Bryant\n",
      "95      96     Joshua Foster\n",
      "96      97        Anna Hayes\n",
      "97      98  William Peterson\n",
      "99     100     James Bennett\n",
      "\n",
      "[73 rows x 2 columns]\n"
     ]
    }
   ],
   "source": [
    "Student=df[(df[\"Branch\"]==\"CSE\")|(df[\"Branch\"]== \"ECE\")][[\"RollNo\",\"Name\"]]\n",
    "print(Student)                                   "
   ]
  },
  {
   "cell_type": "markdown",
   "id": "97eb3801",
   "metadata": {},
   "source": [
    "# JOB 06: Plot a pie chart on the basis of above"
   ]
  },
  {
   "cell_type": "code",
   "execution_count": 17,
   "id": "ffddd74d",
   "metadata": {},
   "outputs": [
    {
     "name": "stdout",
     "output_type": "stream",
     "text": [
      "Branch\n",
      "ECE    43\n",
      "CSE    30\n",
      "EN     27\n",
      "Name: count, dtype: int64\n"
     ]
    }
   ],
   "source": [
    "branch_count=df[\"Branch\"].value_counts()\n",
    "print(branch_count)"
   ]
  },
  {
   "cell_type": "code",
   "execution_count": 18,
   "id": "6f417741",
   "metadata": {},
   "outputs": [
    {
     "data": {
      "image/png": "[encoded data removed]",
      "text/plain": [
       "<Figure size 500x500 with 1 Axes>"
      ]
     },
     "metadata": {},
     "output_type": "display_data"
    }
   ],
   "source": [
    "Pie_chart=df[\"Branch\"].value_counts().plot.pie(figsize=(5,5))"
   ]
  },
  {
   "cell_type": "code",
   "execution_count": null,
   "id": "6ebaedd7",
   "metadata": {},
   "outputs": [],
   "source": []
  }
 ],
 "metadata": {
  "kernelspec": {
   "display_name": "Python 3 (ipykernel)",
   "language": "python",
   "name": "python3"
  },
  "language_info": {
   "codemirror_mode": {
    "name": "ipython",
    "version": 3
   },
   "file_extension": ".py",
   "mimetype": "text/x-python",
   "name": "python",
   "nbconvert_exporter": "python",
   "pygments_lexer": "ipython3",
   "version": "3.11.5"
  }
 },
 "nbformat": 4,
 "nbformat_minor": 5
}
